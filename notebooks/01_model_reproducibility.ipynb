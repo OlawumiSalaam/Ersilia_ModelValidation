{
 "cells": [
  {
   "cell_type": "markdown",
   "metadata": {},
   "source": [
    "# Model Reproducibility\n",
    "\n",
    "In this notebook I will reproduce one of the examples from the publication associated to the model and make sure the Ersilia Model Hub implementation is giving the same results.\n",
    "The test is explained in the ReadMe File"
   ]
  },
  {
   "cell_type": "code",
   "execution_count": 3,
   "metadata": {},
   "outputs": [],
   "source": [
    "# In this codeblock I will import the necessary packages and specify the paths to relevant folders\n",
    "\n",
    "import pandas as pd\n",
    "import numpy as np\n",
    "from sklearn.metrics import roc_curve, roc_auc_score, balanced_accuracy_score, confusion_matrix, cohen_kappa_score\n",
    "import matplotlib.pyplot as plt\n",
    "\n",
    "\n",
    "prediction_folder_path= r\"C:\\Users\\HP\\Desktop\\Ersilia_ModelValidation\\Data\\Output\"\n"
   ]
  },
  {
   "cell_type": "code",
   "execution_count": 4,
   "metadata": {},
   "outputs": [],
   "source": [
    "# In this codeblock I will load the predictions obtained from the original author's code implementation from the /data folder\n",
    "\n",
    "author_prediction= pd.read_csv(r\"C:\\Users\\HP\\Desktop\\Ersilia_ModelValidation\\Data\\Output\\ADME@NCATS_predictions.csv\")"
   ]
  },
  {
   "cell_type": "code",
   "execution_count": 5,
   "metadata": {},
   "outputs": [
    {
     "data": {
      "text/html": [
       "<div>\n",
       "<style scoped>\n",
       "    .dataframe tbody tr th:only-of-type {\n",
       "        vertical-align: middle;\n",
       "    }\n",
       "\n",
       "    .dataframe tbody tr th {\n",
       "        vertical-align: top;\n",
       "    }\n",
       "\n",
       "    .dataframe thead th {\n",
       "        text-align: right;\n",
       "    }\n",
       "</style>\n",
       "<table border=\"1\" class=\"dataframe\">\n",
       "  <thead>\n",
       "    <tr style=\"text-align: right;\">\n",
       "      <th></th>\n",
       "      <th>smiles</th>\n",
       "      <th>solubility (µg/mL)</th>\n",
       "      <th>solubility_original_class</th>\n",
       "      <th>Predicted Class</th>\n",
       "      <th>Probability</th>\n",
       "    </tr>\n",
       "  </thead>\n",
       "  <tbody>\n",
       "    <tr>\n",
       "      <th>0</th>\n",
       "      <td>CCOC(=O)N[C@@H]1CC[C@@H]2[C@@H](C1)C[C@H]1C(=O...</td>\n",
       "      <td>&lt;1</td>\n",
       "      <td>1</td>\n",
       "      <td>1</td>\n",
       "      <td>1.0</td>\n",
       "    </tr>\n",
       "    <tr>\n",
       "      <th>1</th>\n",
       "      <td>Clc1cc(Cl)c(OCC#CI)cc1Cl</td>\n",
       "      <td>&lt;1</td>\n",
       "      <td>1</td>\n",
       "      <td>1</td>\n",
       "      <td>1.0</td>\n",
       "    </tr>\n",
       "    <tr>\n",
       "      <th>2</th>\n",
       "      <td>c1ccc(-c2ccc(C(c3ccccc3)n3ccnc3)cc2)cc1</td>\n",
       "      <td>&lt;1</td>\n",
       "      <td>1</td>\n",
       "      <td>1</td>\n",
       "      <td>1.0</td>\n",
       "    </tr>\n",
       "    <tr>\n",
       "      <th>3</th>\n",
       "      <td>Cc1cc(/C=C/C#N)cc(C)c1Nc1ccnc(Nc2ccc(C#N)cc2)n1</td>\n",
       "      <td>&lt;1</td>\n",
       "      <td>1</td>\n",
       "      <td>1</td>\n",
       "      <td>1.0</td>\n",
       "    </tr>\n",
       "    <tr>\n",
       "      <th>4</th>\n",
       "      <td>CN(C/C=C/C#CC(C)(C)C)Cc1cccc2ccccc12</td>\n",
       "      <td>&lt;1</td>\n",
       "      <td>1</td>\n",
       "      <td>1</td>\n",
       "      <td>1.0</td>\n",
       "    </tr>\n",
       "  </tbody>\n",
       "</table>\n",
       "</div>"
      ],
      "text/plain": [
       "                                              smiles solubility (µg/mL)  \\\n",
       "0  CCOC(=O)N[C@@H]1CC[C@@H]2[C@@H](C1)C[C@H]1C(=O...                 <1   \n",
       "1                           Clc1cc(Cl)c(OCC#CI)cc1Cl                 <1   \n",
       "2            c1ccc(-c2ccc(C(c3ccccc3)n3ccnc3)cc2)cc1                 <1   \n",
       "3    Cc1cc(/C=C/C#N)cc(C)c1Nc1ccnc(Nc2ccc(C#N)cc2)n1                 <1   \n",
       "4               CN(C/C=C/C#CC(C)(C)C)Cc1cccc2ccccc12                 <1   \n",
       "\n",
       "   solubility_original_class  Predicted Class  Probability  \n",
       "0                          1                1          1.0  \n",
       "1                          1                1          1.0  \n",
       "2                          1                1          1.0  \n",
       "3                          1                1          1.0  \n",
       "4                          1                1          1.0  "
      ]
     },
     "execution_count": 5,
     "metadata": {},
     "output_type": "execute_result"
    }
   ],
   "source": [
    "author_prediction.head()"
   ]
  },
  {
   "cell_type": "markdown",
   "metadata": {},
   "source": [
    "## Evaluation Metrics\n",
    "\n",
    "The model performance was assessed using different sta tistical measures. A receiver operating characteristic (ROC) curve, which plots the true-positive rate against the false positive rate, was used to estimate the predictive power of the classification model. \n",
    "\n",
    "The area under the ROC curve (i.e., AUC-ROC) is a numerical value between 0 and 1. The higher the value, the better the predictive power. \n",
    "\n",
    "Sensitivity indicates the proportion of true positives correctly predicted as positive. \n",
    "\n",
    "Specificity is the ability of the model to correctly predict true negatives as negative.\n",
    "\n",
    "Balanced accuracy (BACC) is an average of the sensitivity and specificity. \n",
    " \n",
    "Cohen’s kappa is another metric used in this study that measures agreement between the actual classes and the classes predicted by the classifier.\n",
    "\n",
    "where TP: true positives; \n",
    "\n",
    "FN: false negatives;\n",
    "\n",
    "TN: true negatives; \n",
    "\n",
    " FP: false positives."
   ]
  },
  {
   "cell_type": "markdown",
   "metadata": {},
   "source": [
    "## Author's model evaluation"
   ]
  },
  {
   "cell_type": "code",
   "execution_count": 7,
   "metadata": {},
   "outputs": [],
   "source": [
    "# In this codeblock I will recreate the figure or value I am to reproduce, for example an AUROC\n",
    "auc_roc = roc_auc_score(author_prediction['solubility_original_class'], author_prediction['Predicted Class'])\n",
    "bacc = balanced_accuracy_score(author_prediction['solubility_original_class'], author_prediction['Predicted Class'])\n",
    "tn, fp, fn, tp = confusion_matrix(author_prediction['solubility_original_class'], author_prediction['Predicted Class']).ravel()\n",
    "\n",
    "sensitivity = tp / (tp + fn)\n",
    "specificity = tn / (tn + fp)\n",
    "kappa = cohen_kappa_score(author_prediction['solubility_original_class'], author_prediction['Predicted Class'])"
   ]
  },
  {
   "cell_type": "code",
   "execution_count": 10,
   "metadata": {},
   "outputs": [
    {
     "name": "stdout",
     "output_type": "stream",
     "text": [
      "               0         1            2            3              4\n",
      "Metric   AUC-ROC      BACC  sensitivity  specificity  Cohen's Kappa\n",
      "Score   0.836467  0.836467     0.804878     0.868056       0.614017\n"
     ]
    }
   ],
   "source": [
    "# Create a DataFrame to store the metric results\n",
    "metric_results_adme_ncats = pd.DataFrame({\n",
    "    'Metric': ['AUC-ROC', 'BACC', 'sensitivity', 'specificity',  'Cohen\\'s Kappa'],\n",
    "    'Score': [auc_roc, bacc, sensitivity ,specificity, kappa]\n",
    "})\n",
    "\n",
    "print(metric_results_adme_ncats.T)\n",
    "\n"
   ]
  },
  {
   "cell_type": "code",
   "execution_count": null,
   "metadata": {},
   "outputs": [],
   "source": []
  },
  {
   "cell_type": "markdown",
   "metadata": {},
   "source": [
    "## Ersilia eos74bo model evaluation"
   ]
  },
  {
   "cell_type": "code",
   "execution_count": 11,
   "metadata": {},
   "outputs": [],
   "source": [
    "# In this codeblock I will load the predictions obtained from the Ersilia Model Hub implementation saved in the /data folder\n",
    "ersilia_prediction= pd.read_csv(r\"C:\\Users\\HP\\Desktop\\Ersilia_ModelValidation\\Data\\Output\\ersilia_eos74bo_prediction.csv\")"
   ]
  },
  {
   "cell_type": "code",
   "execution_count": 13,
   "metadata": {},
   "outputs": [
    {
     "data": {
      "text/html": [
       "<div>\n",
       "<style scoped>\n",
       "    .dataframe tbody tr th:only-of-type {\n",
       "        vertical-align: middle;\n",
       "    }\n",
       "\n",
       "    .dataframe tbody tr th {\n",
       "        vertical-align: top;\n",
       "    }\n",
       "\n",
       "    .dataframe thead th {\n",
       "        text-align: right;\n",
       "    }\n",
       "</style>\n",
       "<table border=\"1\" class=\"dataframe\">\n",
       "  <thead>\n",
       "    <tr style=\"text-align: right;\">\n",
       "      <th></th>\n",
       "      <th>Unnamed: 0</th>\n",
       "      <th>smiles</th>\n",
       "      <th>solubility (µg/mL)</th>\n",
       "      <th>solubility_original_class</th>\n",
       "      <th>prediction</th>\n",
       "      <th>predicted_class</th>\n",
       "    </tr>\n",
       "  </thead>\n",
       "  <tbody>\n",
       "    <tr>\n",
       "      <th>0</th>\n",
       "      <td>0</td>\n",
       "      <td>CCOC(=O)N[C@@H]1CC[C@@H]2[C@@H](C1)C[C@H]1C(=O...</td>\n",
       "      <td>&lt;1</td>\n",
       "      <td>1</td>\n",
       "      <td>0.997</td>\n",
       "      <td>1</td>\n",
       "    </tr>\n",
       "    <tr>\n",
       "      <th>1</th>\n",
       "      <td>1</td>\n",
       "      <td>Clc1cc(Cl)c(OCC#CI)cc1Cl</td>\n",
       "      <td>&lt;1</td>\n",
       "      <td>1</td>\n",
       "      <td>1.000</td>\n",
       "      <td>1</td>\n",
       "    </tr>\n",
       "    <tr>\n",
       "      <th>2</th>\n",
       "      <td>2</td>\n",
       "      <td>c1ccc(-c2ccc(C(c3ccccc3)n3ccnc3)cc2)cc1</td>\n",
       "      <td>&lt;1</td>\n",
       "      <td>1</td>\n",
       "      <td>0.996</td>\n",
       "      <td>1</td>\n",
       "    </tr>\n",
       "    <tr>\n",
       "      <th>3</th>\n",
       "      <td>3</td>\n",
       "      <td>Cc1cc(/C=C/C#N)cc(C)c1Nc1ccnc(Nc2ccc(C#N)cc2)n1</td>\n",
       "      <td>&lt;1</td>\n",
       "      <td>1</td>\n",
       "      <td>1.000</td>\n",
       "      <td>1</td>\n",
       "    </tr>\n",
       "    <tr>\n",
       "      <th>4</th>\n",
       "      <td>4</td>\n",
       "      <td>CN(C/C=C/C#CC(C)(C)C)Cc1cccc2ccccc12</td>\n",
       "      <td>&lt;1</td>\n",
       "      <td>1</td>\n",
       "      <td>0.996</td>\n",
       "      <td>1</td>\n",
       "    </tr>\n",
       "  </tbody>\n",
       "</table>\n",
       "</div>"
      ],
      "text/plain": [
       "   Unnamed: 0                                             smiles  \\\n",
       "0           0  CCOC(=O)N[C@@H]1CC[C@@H]2[C@@H](C1)C[C@H]1C(=O...   \n",
       "1           1                           Clc1cc(Cl)c(OCC#CI)cc1Cl   \n",
       "2           2            c1ccc(-c2ccc(C(c3ccccc3)n3ccnc3)cc2)cc1   \n",
       "3           3    Cc1cc(/C=C/C#N)cc(C)c1Nc1ccnc(Nc2ccc(C#N)cc2)n1   \n",
       "4           4               CN(C/C=C/C#CC(C)(C)C)Cc1cccc2ccccc12   \n",
       "\n",
       "  solubility (µg/mL)  solubility_original_class  prediction  predicted_class  \n",
       "0                 <1                          1       0.997                1  \n",
       "1                 <1                          1       1.000                1  \n",
       "2                 <1                          1       0.996                1  \n",
       "3                 <1                          1       1.000                1  \n",
       "4                 <1                          1       0.996                1  "
      ]
     },
     "execution_count": 13,
     "metadata": {},
     "output_type": "execute_result"
    }
   ],
   "source": [
    "ersilia_prediction.head()"
   ]
  },
  {
   "cell_type": "code",
   "execution_count": 15,
   "metadata": {},
   "outputs": [
    {
     "name": "stdout",
     "output_type": "stream",
     "text": [
      "               0         1            2            3         4\n",
      "Metric   AUC-ROC      BACC  sensitivity  specificity     Kappa\n",
      "Score   0.836467  0.836467     0.804878     0.868056  0.614017\n"
     ]
    }
   ],
   "source": [
    "auc_roc = roc_auc_score(ersilia_prediction['solubility_original_class'], ersilia_prediction['predicted_class'])\n",
    "bacc = balanced_accuracy_score(ersilia_prediction['solubility_original_class'], ersilia_prediction['predicted_class'])\n",
    "tn, fp, fn, tp = confusion_matrix(ersilia_prediction['solubility_original_class'], ersilia_prediction['predicted_class']).ravel()\n",
    "\n",
    "sensitivity = tp / (tp + fn)\n",
    "specificity = tn / (tn + fp)\n",
    "kappa = cohen_kappa_score(ersilia_prediction['solubility_original_class'], ersilia_prediction['predicted_class'])\n",
    "\n",
    "# Create a DataFrame to store the metric results\n",
    "metric_results_eos74bo = pd.DataFrame({\n",
    "    'Metric': ['AUC-ROC', 'BACC', 'sensitivity', 'specificity',  'Kappa'],\n",
    "    'Score': [auc_roc, bacc, sensitivity ,specificity, kappa]\n",
    "})\n",
    "\n",
    "print(metric_results_eos74bo.T)"
   ]
  },
  {
   "cell_type": "code",
   "execution_count": 24,
   "metadata": {},
   "outputs": [
    {
     "name": "stdout",
     "output_type": "stream",
     "text": [
      "                 0           1            2            3              4  \\\n",
      "Metric     AUC-ROC        BACC  sensitivity  specificity  Cohen's Kappa   \n",
      "Score         0.84        0.84          0.8         0.87           0.61   \n",
      "Model   ADME@NCATS  ADME@NCATS   ADME@NCATS   ADME@NCATS     ADME@NCATS   \n",
      "\n",
      "              0        1            2            3        4  \n",
      "Metric  AUC-ROC     BACC  sensitivity  specificity    Kappa  \n",
      "Score      0.84     0.84          0.8         0.87     0.61  \n",
      "Model   eos74bo  eos74bo      eos74bo      eos74bo  eos74bo  \n"
     ]
    }
   ],
   "source": [
    "# In this codeblock I will compare the orginal implementation vs the EMH result\n",
    "\n",
    "# Add model names to each DataFrame\n",
    "metric_results_adme_ncats['Model'] = 'ADME@NCATS'\n",
    "metric_results_eos74bo['Model'] = 'eos74bo'\n",
    "\n",
    "# Concatenate the two DataFrames horizontally\n",
    "comparison_table = pd.concat([metric_results_adme_ncats, metric_results_eos74bo], axis=0)\n",
    "\n",
    "# Round the values to 2 decimal places\n",
    "comparison_table_rounded = comparison_table.round(2)\n",
    "\n",
    "# Transpose the comparison table\n",
    "comparison_table_transposed = comparison_table_rounded.T\n",
    "\n",
    "# Print the transposed comparison table\n",
    "print(comparison_table_transposed)"
   ]
  },
  {
   "cell_type": "markdown",
   "metadata": {},
   "source": [
    "## I was able to achieve the same result with the two models when validated with a subset of NPC marketed drugs with 185 dataset"
   ]
  },
  {
   "cell_type": "code",
   "execution_count": null,
   "metadata": {},
   "outputs": [],
   "source": []
  }
 ],
 "metadata": {
  "kernelspec": {
   "display_name": "Python 3 (ipykernel)",
   "language": "python",
   "name": "python3"
  },
  "language_info": {
   "codemirror_mode": {
    "name": "ipython",
    "version": 3
   },
   "file_extension": ".py",
   "mimetype": "text/x-python",
   "name": "python",
   "nbconvert_exporter": "python",
   "pygments_lexer": "ipython3",
   "version": "3.11.5"
  }
 },
 "nbformat": 4,
 "nbformat_minor": 4
}
