{
 "cells": [
  {
   "cell_type": "markdown",
   "metadata": {},
   "source": []
  },
  {
   "cell_type": "markdown",
   "metadata": {
    "id": "xgPVdUXfc51O"
   },
   "source": [
    "# Introduction\n",
    "\n",
    "•\tIn this task, the aim to validate the accuracy of predictive models for Kinetic Aqueous Solubility. Our focus will be on validating the eos74bo model for predicting the  probability of a compound having poor solublibity (< 10 µg/ml). This is crucial for understanding the behavior of molecules in aqueous environments.\n",
    "This will be achieved in the following steps:\n",
    "\n",
    "•\tImport necessary libraries\n",
    "\n",
    "•\tData preprocessing\n",
    "\n",
    "•\tModel bias evaluation\n"
   ]
  },
  {
   "cell_type": "markdown",
   "metadata": {
    "id": "aJLZGDhJVztd"
   },
   "source": [
    "# Data processing\n",
    "\n",
    "In this notebook, I am loading a list of molecules I obtained from ChEMBL and processing them to make sure I have:\n",
    "- Standard SMILES representation of the compound\n",
    "- InChIKey associated to the compound"
   ]
  },
  {
   "cell_type": "code",
   "execution_count": 1,
   "metadata": {
    "executionInfo": {
     "elapsed": 174807,
     "status": "ok",
     "timestamp": 1710324976342,
     "user": {
      "displayName": "Olawumi Ajani Salaam",
      "userId": "07507578771130631885"
     },
     "user_tz": -60
    },
    "id": "KhO5M2ggVztf"
   },
   "outputs": [],
   "source": [
    "# In this codeblock I will import the necessary packages and specify the paths to relevant folders\n",
    "# import the necessary packages and specify the paths to relevant folders\n",
    "\n",
    "%%capture\n",
    "%env MINICONDA_INSTALLER_SCRIPT=Miniconda3-py37_4.12.0-Linux-x86_64.sh\n",
    "%env MINICONDA_PREFIX=/usr/local\n",
    "%env PYTHONPATH=\"$PYTHONPATH:/usr/local/lib/python3.7/site-packages\"\n",
    "%env PIP_ROOT_USER_ACTION=ignore\n",
    "\n",
    "!wget https://repo.anaconda.com/miniconda/Miniconda3-py37_4.12.0-Linux-x86_64.sh -O miniconda.sh\n",
    "!bash miniconda.sh -b -f -p $MINICONDA_PREFIX\n",
    "\n",
    "!python -m pip install git+https://github.com/ersilia-os/ersilia.git\n",
    "!python -m pip install requests --upgrade\n",
    "import sys\n",
    "\n",
    "_ = sys.path.append(\"/usr/local/lib/python3.7/site-packages\")\n",
    "\n",
    "!pip install rdkit\n",
    "\n",
    "sys.path.append(\"/content/drive/MyDrive/Ersilia_Week2Task\")\n",
    "\n",
    "## Mount google drive\n",
    "from google.colab import drive\n",
    "\n",
    "drive.mount(\"/content/drive\")\n",
    "\n",
    "\n",
    "# specify your output folder\n",
    "\n",
    "output_folder = \"/content/drive/MyDrive/Ersilia_Week2Task\"  # @param {type:\"string\"}\n",
    "\n",
    "# specify your output folder\n",
    "\n",
    "output_folder = \"/content/drive/MyDrive/Ersilia_Week2Task\"  # @param {type:\"string\"}\n",
    "\n",
    "# specify the name of your input csv file\n",
    "\n",
    "input_filename = \"/content/drive/MyDrive/Ersilia_Week2Task/reference_library.csv\"  # @param {type:\"string\"}\n"
   ]
  },
  {
   "cell_type": "code",
   "execution_count": 2,
   "metadata": {
    "colab": {
     "base_uri": "https://localhost:8080/"
    },
    "executionInfo": {
     "elapsed": 991,
     "status": "ok",
     "timestamp": 1710324977331,
     "user": {
      "displayName": "Olawumi Ajani Salaam",
      "userId": "07507578771130631885"
     },
     "user_tz": -60
    },
    "id": "CH-wim7DVztg",
    "outputId": "a86aa00c-192b-4b1e-c616-65015932fd20"
   },
   "outputs": [
    {
     "name": "stdout",
     "output_type": "stream",
     "text": [
      "(1000, 1)\n",
      "                                              smiles\n",
      "0                       CCCCNC(=S)N/N=C/C1=C(C)C=CS1\n",
      "1         CN1C(SCC2=NC(C3=CC=CS3)=NO2)=NN=C1C1CCCCC1\n",
      "2           O=C(O)CC(NC(=O)C1=CN=CC=N1)C1=CC=CC=C1Cl\n",
      "3  O=S(=O)(C1=CC=CC=C1)N1CCN(C2=NOC3=CC=CC(Cl)=C2...\n",
      "4  CCC[C@@H](C)N(C1=CC(Cl)=CC=C1CO)S(=O)(=O)C1=CC...\n"
     ]
    }
   ],
   "source": [
    "# In this codeblock I will load the data from the /data folder to a Pandas dataframe and understand which headers it has\n",
    "\n",
    "import pandas as pd\n",
    "df= pd.read_csv(\"/content/drive/MyDrive/Ersilia_Week2Task/reference_library.csv\")\n",
    "\n",
    "# check the first five rows with its header\n",
    "print(df.shape)\n",
    "print(df.head())"
   ]
  },
  {
   "cell_type": "code",
   "execution_count": 3,
   "metadata": {
    "executionInfo": {
     "elapsed": 1133,
     "status": "ok",
     "timestamp": 1710324978461,
     "user": {
      "displayName": "Olawumi Ajani Salaam",
      "userId": "07507578771130631885"
     },
     "user_tz": -60
    },
    "id": "bZ6BvirGVztg"
   },
   "outputs": [],
   "source": [
    "# In this codeblock I will convert the molecules to standard SMILES by using the function standardise_smiles from /src\n",
    "# I will import the function directly from src, not copying it here\n",
    "\n",
    "from src import standardise_smiles\n",
    "\n",
    "# Define the column containing the molecules (SMILES strings)\n",
    "smiles_column = 'smiles'\n",
    "\n",
    "# Convert molecules to standard SMILES\n",
    "df['standardized_smiles'] = df[smiles_column].apply(standardise_smiles)\n"
   ]
  },
  {
   "cell_type": "code",
   "execution_count": 4,
   "metadata": {
    "colab": {
     "base_uri": "https://localhost:8080/",
     "height": 278
    },
    "executionInfo": {
     "elapsed": 5,
     "status": "ok",
     "timestamp": 1710324978462,
     "user": {
      "displayName": "Olawumi Ajani Salaam",
      "userId": "07507578771130631885"
     },
     "user_tz": -60
    },
    "id": "xMUsRPArHn3n",
    "outputId": "ecaa0804-366d-4c17-ddaa-64a6de086c75"
   },
   "outputs": [
    {
     "data": {
      "application/vnd.google.colaboratory.intrinsic+json": {
       "summary": "{\n  \"name\": \"df\",\n  \"rows\": 1000,\n  \"fields\": [\n    {\n      \"column\": \"smiles\",\n      \"properties\": {\n        \"dtype\": \"string\",\n        \"num_unique_values\": 1000,\n        \"samples\": [\n          \"CN1C(SCC(N)=O)=NN=C1C1=CC=C(S(=O)(=O)N2CCCC2)C=C1\",\n          \"NC(=O)C1=CC=CC=C1OCCCNCCC1=CN(S(=O)(=O)C2=CC=CC=C2)C2=CC=CC=C12\",\n          \"CCOC1=CC=CC=C1C(=O)NCC(=O)OCC(=O)NCCC1=CC=C(S(N)(=O)=O)C=C1\"\n        ],\n        \"semantic_type\": \"\",\n        \"description\": \"\"\n      }\n    },\n    {\n      \"column\": \"standardized_smiles\",\n      \"properties\": {\n        \"dtype\": \"string\",\n        \"num_unique_values\": 1000,\n        \"samples\": [\n          \"Cn1c(SCC(N)=O)nnc1-c1ccc(S(=O)(=O)N2CCCC2)cc1\",\n          \"NC(=O)c1ccccc1OCCCNCCc1cn(S(=O)(=O)c2ccccc2)c2ccccc12\",\n          \"CCOc1ccccc1C(=O)NCC(=O)OCC(=O)NCCc1ccc(S(N)(=O)=O)cc1\"\n        ],\n        \"semantic_type\": \"\",\n        \"description\": \"\"\n      }\n    }\n  ]\n}",
       "type": "dataframe",
       "variable_name": "df"
      },
      "text/html": [
       "\n",
       "  <div id=\"df-14e8f967-44d3-475b-b415-586f3db1cb2f\" class=\"colab-df-container\">\n",
       "    <div>\n",
       "<style scoped>\n",
       "    .dataframe tbody tr th:only-of-type {\n",
       "        vertical-align: middle;\n",
       "    }\n",
       "\n",
       "    .dataframe tbody tr th {\n",
       "        vertical-align: top;\n",
       "    }\n",
       "\n",
       "    .dataframe thead th {\n",
       "        text-align: right;\n",
       "    }\n",
       "</style>\n",
       "<table border=\"1\" class=\"dataframe\">\n",
       "  <thead>\n",
       "    <tr style=\"text-align: right;\">\n",
       "      <th></th>\n",
       "      <th>smiles</th>\n",
       "      <th>standardized_smiles</th>\n",
       "    </tr>\n",
       "  </thead>\n",
       "  <tbody>\n",
       "    <tr>\n",
       "      <th>0</th>\n",
       "      <td>CCCCNC(=S)N/N=C/C1=C(C)C=CS1</td>\n",
       "      <td>CCCCNC(=S)N/N=C/c1sccc1C</td>\n",
       "    </tr>\n",
       "    <tr>\n",
       "      <th>1</th>\n",
       "      <td>CN1C(SCC2=NC(C3=CC=CS3)=NO2)=NN=C1C1CCCCC1</td>\n",
       "      <td>Cn1c(SCc2nc(-c3cccs3)no2)nnc1C1CCCCC1</td>\n",
       "    </tr>\n",
       "    <tr>\n",
       "      <th>2</th>\n",
       "      <td>O=C(O)CC(NC(=O)C1=CN=CC=N1)C1=CC=CC=C1Cl</td>\n",
       "      <td>O=C(O)CC(NC(=O)c1cnccn1)c1ccccc1Cl</td>\n",
       "    </tr>\n",
       "    <tr>\n",
       "      <th>3</th>\n",
       "      <td>O=S(=O)(C1=CC=CC=C1)N1CCN(C2=NOC3=CC=CC(Cl)=C2...</td>\n",
       "      <td>O=S(=O)(c1ccccc1)N1CCN(c2noc3cccc(Cl)c23)CC1</td>\n",
       "    </tr>\n",
       "    <tr>\n",
       "      <th>4</th>\n",
       "      <td>CCC[C@@H](C)N(C1=CC(Cl)=CC=C1CO)S(=O)(=O)C1=CC...</td>\n",
       "      <td>CCC[C@@H](C)N(c1cc(Cl)ccc1CO)S(=O)(=O)c1ccc(C)cc1</td>\n",
       "    </tr>\n",
       "  </tbody>\n",
       "</table>\n",
       "</div>\n",
       "    <div class=\"colab-df-buttons\">\n",
       "\n",
       "  <div class=\"colab-df-container\">\n",
       "    <button class=\"colab-df-convert\" onclick=\"convertToInteractive('df-14e8f967-44d3-475b-b415-586f3db1cb2f')\"\n",
       "            title=\"Convert this dataframe to an interactive table.\"\n",
       "            style=\"display:none;\">\n",
       "\n",
       "  <svg xmlns=\"http://www.w3.org/2000/svg\" height=\"24px\" viewBox=\"0 -960 960 960\">\n",
       "    <path d=\"M120-120v-720h720v720H120Zm60-500h600v-160H180v160Zm220 220h160v-160H400v160Zm0 220h160v-160H400v160ZM180-400h160v-160H180v160Zm440 0h160v-160H620v160ZM180-180h160v-160H180v160Zm440 0h160v-160H620v160Z\"/>\n",
       "  </svg>\n",
       "    </button>\n",
       "\n",
       "  <style>\n",
       "    .colab-df-container {\n",
       "      display:flex;\n",
       "      gap: 12px;\n",
       "    }\n",
       "\n",
       "    .colab-df-convert {\n",
       "      background-color: #E8F0FE;\n",
       "      border: none;\n",
       "      border-radius: 50%;\n",
       "      cursor: pointer;\n",
       "      display: none;\n",
       "      fill: #1967D2;\n",
       "      height: 32px;\n",
       "      padding: 0 0 0 0;\n",
       "      width: 32px;\n",
       "    }\n",
       "\n",
       "    .colab-df-convert:hover {\n",
       "      background-color: #E2EBFA;\n",
       "      box-shadow: 0px 1px 2px rgba(60, 64, 67, 0.3), 0px 1px 3px 1px rgba(60, 64, 67, 0.15);\n",
       "      fill: #174EA6;\n",
       "    }\n",
       "\n",
       "    .colab-df-buttons div {\n",
       "      margin-bottom: 4px;\n",
       "    }\n",
       "\n",
       "    [theme=dark] .colab-df-convert {\n",
       "      background-color: #3B4455;\n",
       "      fill: #D2E3FC;\n",
       "    }\n",
       "\n",
       "    [theme=dark] .colab-df-convert:hover {\n",
       "      background-color: #434B5C;\n",
       "      box-shadow: 0px 1px 3px 1px rgba(0, 0, 0, 0.15);\n",
       "      filter: drop-shadow(0px 1px 2px rgba(0, 0, 0, 0.3));\n",
       "      fill: #FFFFFF;\n",
       "    }\n",
       "  </style>\n",
       "\n",
       "    <script>\n",
       "      const buttonEl =\n",
       "        document.querySelector('#df-14e8f967-44d3-475b-b415-586f3db1cb2f button.colab-df-convert');\n",
       "      buttonEl.style.display =\n",
       "        google.colab.kernel.accessAllowed ? 'block' : 'none';\n",
       "\n",
       "      async function convertToInteractive(key) {\n",
       "        const element = document.querySelector('#df-14e8f967-44d3-475b-b415-586f3db1cb2f');\n",
       "        const dataTable =\n",
       "          await google.colab.kernel.invokeFunction('convertToInteractive',\n",
       "                                                    [key], {});\n",
       "        if (!dataTable) return;\n",
       "\n",
       "        const docLinkHtml = 'Like what you see? Visit the ' +\n",
       "          '<a target=\"_blank\" href=https://colab.research.google.com/notebooks/data_table.ipynb>data table notebook</a>'\n",
       "          + ' to learn more about interactive tables.';\n",
       "        element.innerHTML = '';\n",
       "        dataTable['output_type'] = 'display_data';\n",
       "        await google.colab.output.renderOutput(dataTable, element);\n",
       "        const docLink = document.createElement('div');\n",
       "        docLink.innerHTML = docLinkHtml;\n",
       "        element.appendChild(docLink);\n",
       "      }\n",
       "    </script>\n",
       "  </div>\n",
       "\n",
       "\n",
       "<div id=\"df-27328726-5345-4ce1-ad16-f6736c1b9635\">\n",
       "  <button class=\"colab-df-quickchart\" onclick=\"quickchart('df-27328726-5345-4ce1-ad16-f6736c1b9635')\"\n",
       "            title=\"Suggest charts\"\n",
       "            style=\"display:none;\">\n",
       "\n",
       "<svg xmlns=\"http://www.w3.org/2000/svg\" height=\"24px\"viewBox=\"0 0 24 24\"\n",
       "     width=\"24px\">\n",
       "    <g>\n",
       "        <path d=\"M19 3H5c-1.1 0-2 .9-2 2v14c0 1.1.9 2 2 2h14c1.1 0 2-.9 2-2V5c0-1.1-.9-2-2-2zM9 17H7v-7h2v7zm4 0h-2V7h2v10zm4 0h-2v-4h2v4z\"/>\n",
       "    </g>\n",
       "</svg>\n",
       "  </button>\n",
       "\n",
       "<style>\n",
       "  .colab-df-quickchart {\n",
       "      --bg-color: #E8F0FE;\n",
       "      --fill-color: #1967D2;\n",
       "      --hover-bg-color: #E2EBFA;\n",
       "      --hover-fill-color: #174EA6;\n",
       "      --disabled-fill-color: #AAA;\n",
       "      --disabled-bg-color: #DDD;\n",
       "  }\n",
       "\n",
       "  [theme=dark] .colab-df-quickchart {\n",
       "      --bg-color: #3B4455;\n",
       "      --fill-color: #D2E3FC;\n",
       "      --hover-bg-color: #434B5C;\n",
       "      --hover-fill-color: #FFFFFF;\n",
       "      --disabled-bg-color: #3B4455;\n",
       "      --disabled-fill-color: #666;\n",
       "  }\n",
       "\n",
       "  .colab-df-quickchart {\n",
       "    background-color: var(--bg-color);\n",
       "    border: none;\n",
       "    border-radius: 50%;\n",
       "    cursor: pointer;\n",
       "    display: none;\n",
       "    fill: var(--fill-color);\n",
       "    height: 32px;\n",
       "    padding: 0;\n",
       "    width: 32px;\n",
       "  }\n",
       "\n",
       "  .colab-df-quickchart:hover {\n",
       "    background-color: var(--hover-bg-color);\n",
       "    box-shadow: 0 1px 2px rgba(60, 64, 67, 0.3), 0 1px 3px 1px rgba(60, 64, 67, 0.15);\n",
       "    fill: var(--button-hover-fill-color);\n",
       "  }\n",
       "\n",
       "  .colab-df-quickchart-complete:disabled,\n",
       "  .colab-df-quickchart-complete:disabled:hover {\n",
       "    background-color: var(--disabled-bg-color);\n",
       "    fill: var(--disabled-fill-color);\n",
       "    box-shadow: none;\n",
       "  }\n",
       "\n",
       "  .colab-df-spinner {\n",
       "    border: 2px solid var(--fill-color);\n",
       "    border-color: transparent;\n",
       "    border-bottom-color: var(--fill-color);\n",
       "    animation:\n",
       "      spin 1s steps(1) infinite;\n",
       "  }\n",
       "\n",
       "  @keyframes spin {\n",
       "    0% {\n",
       "      border-color: transparent;\n",
       "      border-bottom-color: var(--fill-color);\n",
       "      border-left-color: var(--fill-color);\n",
       "    }\n",
       "    20% {\n",
       "      border-color: transparent;\n",
       "      border-left-color: var(--fill-color);\n",
       "      border-top-color: var(--fill-color);\n",
       "    }\n",
       "    30% {\n",
       "      border-color: transparent;\n",
       "      border-left-color: var(--fill-color);\n",
       "      border-top-color: var(--fill-color);\n",
       "      border-right-color: var(--fill-color);\n",
       "    }\n",
       "    40% {\n",
       "      border-color: transparent;\n",
       "      border-right-color: var(--fill-color);\n",
       "      border-top-color: var(--fill-color);\n",
       "    }\n",
       "    60% {\n",
       "      border-color: transparent;\n",
       "      border-right-color: var(--fill-color);\n",
       "    }\n",
       "    80% {\n",
       "      border-color: transparent;\n",
       "      border-right-color: var(--fill-color);\n",
       "      border-bottom-color: var(--fill-color);\n",
       "    }\n",
       "    90% {\n",
       "      border-color: transparent;\n",
       "      border-bottom-color: var(--fill-color);\n",
       "    }\n",
       "  }\n",
       "</style>\n",
       "\n",
       "  <script>\n",
       "    async function quickchart(key) {\n",
       "      const quickchartButtonEl =\n",
       "        document.querySelector('#' + key + ' button');\n",
       "      quickchartButtonEl.disabled = true;  // To prevent multiple clicks.\n",
       "      quickchartButtonEl.classList.add('colab-df-spinner');\n",
       "      try {\n",
       "        const charts = await google.colab.kernel.invokeFunction(\n",
       "            'suggestCharts', [key], {});\n",
       "      } catch (error) {\n",
       "        console.error('Error during call to suggestCharts:', error);\n",
       "      }\n",
       "      quickchartButtonEl.classList.remove('colab-df-spinner');\n",
       "      quickchartButtonEl.classList.add('colab-df-quickchart-complete');\n",
       "    }\n",
       "    (() => {\n",
       "      let quickchartButtonEl =\n",
       "        document.querySelector('#df-27328726-5345-4ce1-ad16-f6736c1b9635 button');\n",
       "      quickchartButtonEl.style.display =\n",
       "        google.colab.kernel.accessAllowed ? 'block' : 'none';\n",
       "    })();\n",
       "  </script>\n",
       "</div>\n",
       "    </div>\n",
       "  </div>\n"
      ],
      "text/plain": [
       "                                              smiles  \\\n",
       "0                       CCCCNC(=S)N/N=C/C1=C(C)C=CS1   \n",
       "1         CN1C(SCC2=NC(C3=CC=CS3)=NO2)=NN=C1C1CCCCC1   \n",
       "2           O=C(O)CC(NC(=O)C1=CN=CC=N1)C1=CC=CC=C1Cl   \n",
       "3  O=S(=O)(C1=CC=CC=C1)N1CCN(C2=NOC3=CC=CC(Cl)=C2...   \n",
       "4  CCC[C@@H](C)N(C1=CC(Cl)=CC=C1CO)S(=O)(=O)C1=CC...   \n",
       "\n",
       "                                 standardized_smiles  \n",
       "0                           CCCCNC(=S)N/N=C/c1sccc1C  \n",
       "1              Cn1c(SCc2nc(-c3cccs3)no2)nnc1C1CCCCC1  \n",
       "2                 O=C(O)CC(NC(=O)c1cnccn1)c1ccccc1Cl  \n",
       "3       O=S(=O)(c1ccccc1)N1CCN(c2noc3cccc(Cl)c23)CC1  \n",
       "4  CCC[C@@H](C)N(c1cc(Cl)ccc1CO)S(=O)(=O)c1ccc(C)cc1  "
      ]
     },
     "execution_count": 4,
     "metadata": {},
     "output_type": "execute_result"
    }
   ],
   "source": [
    "df.head()"
   ]
  },
  {
   "cell_type": "code",
   "execution_count": null,
   "metadata": {
    "executionInfo": {
     "elapsed": 2,
     "status": "aborted",
     "timestamp": 1710325357146,
     "user": {
      "displayName": "Olawumi Ajani Salaam",
      "userId": "07507578771130631885"
     },
     "user_tz": -60
    },
    "id": "99YW3aY2Vztg"
   },
   "outputs": [],
   "source": [
    "# In this codeblock I will get the Inchikey representation of the molecules using the RDKIT package\n",
    "\n",
    "from src import get_inchikey\n",
    "\n",
    "# Apply the function to the \"standardise_smile\" column\n",
    "df[\"inchi_key\"] = df[\"standardized_smiles\"].apply(get_inchikey)\n",
    "\n",
    "# Display the DataFrame with the added standardized SMILES column\n",
    "print(df.head())\n"
   ]
  },
  {
   "cell_type": "code",
   "execution_count": 15,
   "metadata": {
    "executionInfo": {
     "elapsed": 485,
     "status": "ok",
     "timestamp": 1710325729445,
     "user": {
      "displayName": "Olawumi Ajani Salaam",
      "userId": "07507578771130631885"
     },
     "user_tz": -60
    },
    "id": "ozi5nE2SVzth"
   },
   "outputs": [],
   "source": [
    "# In this codeblock I will save the data as a .csv file containing only the standard smiles and the inchikey as columns.\n",
    "# All data will be saved with informative names in the /data folder\n",
    "\n",
    "\n",
    "# Select only the 'standardized_smiles' and 'inchi_key' columns\n",
    "selected_columns = ['standardized_smiles', 'inchi_key']\n",
    "df = df[selected_columns]\n",
    "\n",
    "# Specify the path where you want to save the CSV file\n",
    "output_folder = '/content/drive/MyDrive/Ersilia_Week2Task'\n",
    "output_filename = 'standard_smiles_inchikey.csv'\n",
    "output_path = f'{output_folder}/{output_filename}'\n",
    "\n",
    "# Save the selected DataFrame to a CSV file\n",
    "df.to_csv(output_path, index=False)\n"
   ]
  },
  {
   "cell_type": "markdown",
   "metadata": {
    "id": "MVqhP6Mv_8Zj"
   },
   "source": [
    "# Model Predictions\n",
    "\n"
   ]
  },
  {
   "cell_type": "code",
   "execution_count": 16,
   "metadata": {
    "executionInfo": {
     "elapsed": 432,
     "status": "ok",
     "timestamp": 1710325741052,
     "user": {
      "displayName": "Olawumi Ajani Salaam",
      "userId": "07507578771130631885"
     },
     "user_tz": -60
    },
    "id": "PHAosiQDBCPB"
   },
   "outputs": [],
   "source": [
    "#  Extract SMILES to a list\n",
    "standardized_smiles_list = df['standardized_smiles'].tolist()"
   ]
  },
  {
   "cell_type": "code",
   "execution_count": 17,
   "metadata": {
    "colab": {
     "base_uri": "https://localhost:8080/"
    },
    "executionInfo": {
     "elapsed": 173247,
     "status": "ok",
     "timestamp": 1710325916855,
     "user": {
      "displayName": "Olawumi Ajani Salaam",
      "userId": "07507578771130631885"
     },
     "user_tz": -60
    },
    "id": "bPbBQ63MBvYB",
    "outputId": "225fe8fe-50ae-4acc-a4a5-9ed6b73001ef"
   },
   "outputs": [
    {
     "name": "stdout",
     "output_type": "stream",
     "text": [
      "\u001b[34m⬇️  Fetching model eos74bo: ncats-solubility\u001b[0m\n",
      "sudo: unknown user udockerusername\r\n",
      "sudo: error initializing audit plugin sudoers_audit\r\n",
      "[]\n",
      "sudo: unknown user udockerusername\n",
      "sudo: error initializing audit plugin sudoers_audit\n",
      "sudo: unknown user udockerusername\n",
      "sudo: error initializing audit plugin sudoers_audit\n",
      "sudo: unknown user udockerusername\n",
      "sudo: error initializing audit plugin sudoers_audit\n",
      "\u001b[32m🚀 Serving model eos74bo: ncats-solubility\u001b[0m\n",
      "\u001b[0m\n",
      "\u001b[33m   URL: http://127.0.0.1:44137\u001b[0m\n",
      "\u001b[33m   PID: 18294\u001b[0m\n",
      "\u001b[33m   SRV: conda\u001b[0m\n",
      "\u001b[0m\n",
      "\u001b[34m👉 To run model:\u001b[0m\n",
      "\u001b[34m   - run\u001b[0m\n",
      "\u001b[0m\n",
      "\u001b[34m💁 Information:\u001b[0m\n",
      "\u001b[34m   - info\u001b[0m\n",
      "sudo: unknown user udockerusername\n",
      "sudo: error initializing audit plugin sudoers_audit\n",
      "\u001b[32m⛔ Model eos74bo closed\u001b[0m\n",
      "\u001b[32m👍 Model eos74bo fetched successfully!\u001b[0m\n",
      "Time taken: 173.2 seconds\n"
     ]
    }
   ],
   "source": [
    "\n",
    "# enter model name\n",
    "model_name = \"eos74bo\"  # @param {type:\"string\"}\n",
    "\n",
    "# Fetch the Model\n",
    "import time\n",
    "\n",
    "begin = time.time()\n",
    "!ersilia fetch $model_name\n",
    "end = time.time()\n",
    "\n",
    "print(\"Time taken:\", round((end - begin), 2), \"seconds\")\n"
   ]
  },
  {
   "cell_type": "code",
   "execution_count": 18,
   "metadata": {
    "colab": {
     "base_uri": "https://localhost:8080/"
    },
    "executionInfo": {
     "elapsed": 8693,
     "status": "ok",
     "timestamp": 1710326299550,
     "user": {
      "displayName": "Olawumi Ajani Salaam",
      "userId": "07507578771130631885"
     },
     "user_tz": -60
    },
    "id": "HDsAlxuRCQQs",
    "outputId": "06510162-13be-429c-8f37-4075a7d06356"
   },
   "outputs": [
    {
     "name": "stdout",
     "output_type": "stream",
     "text": [
      "sudo: unknown user udockerusername\r\n",
      "sudo: error initializing audit plugin sudoers_audit\r\n",
      "sudo: unknown user udockerusername\r\n",
      "sudo: error initializing audit plugin sudoers_audit\r\n",
      "\u001b[32m🚀 Serving model eos74bo: ncats-solubility\u001b[0m\n",
      "\u001b[0m\n",
      "\u001b[33m   URL: http://127.0.0.1:56359\u001b[0m\n",
      "\u001b[33m   PID: 20054\u001b[0m\n",
      "\u001b[33m   SRV: conda\u001b[0m\n",
      "\u001b[0m\n",
      "\u001b[34m👉 To run model:\u001b[0m\n",
      "\u001b[34m   - run\u001b[0m\n",
      "\u001b[0m\n",
      "\u001b[34m💁 Information:\u001b[0m\n",
      "\u001b[34m   - info\u001b[0m\n"
     ]
    }
   ],
   "source": [
    "# Serve the model\n",
    "\n",
    "!ersilia serve $model_name"
   ]
  },
  {
   "cell_type": "code",
   "execution_count": 19,
   "metadata": {
    "colab": {
     "base_uri": "https://localhost:8080/"
    },
    "executionInfo": {
     "elapsed": 64482,
     "status": "ok",
     "timestamp": 1710326369951,
     "user": {
      "displayName": "Olawumi Ajani Salaam",
      "userId": "07507578771130631885"
     },
     "user_tz": -60
    },
    "id": "lPrgE3SiCle4",
    "outputId": "ffdfaa20-f0b9-436f-b70b-d444f44e8eb2"
   },
   "outputs": [
    {
     "name": "stdout",
     "output_type": "stream",
     "text": [
      "Successful 👍! Time taken: 63.88 seconds\n"
     ]
    }
   ],
   "source": [
    "# Run predictions\n",
    "\n",
    "api = \"predict\"  # @param {type:\"string\"}\n",
    "\n",
    "from ersilia import ErsiliaModel\n",
    "import time\n",
    "\n",
    "model = ErsiliaModel(model_name)\n",
    "begin = time.time()\n",
    "output = model.api(input=standardized_smiles_list, output=\"pandas\")\n",
    "end = time.time()\n",
    "\n",
    "print(\"Successful 👍! Time taken:\", round((end - begin), 2), \"seconds\")\n",
    "model.close()\n"
   ]
  },
  {
   "cell_type": "code",
   "execution_count": 20,
   "metadata": {
    "colab": {
     "base_uri": "https://localhost:8080/"
    },
    "executionInfo": {
     "elapsed": 486,
     "status": "ok",
     "timestamp": 1710326449030,
     "user": {
      "displayName": "Olawumi Ajani Salaam",
      "userId": "07507578771130631885"
     },
     "user_tz": -60
    },
    "id": "Zzr6dY9RCyNa",
    "outputId": "5f84c8ef-68df-47ca-818e-1efdfbfe1159"
   },
   "outputs": [
    {
     "name": "stdout",
     "output_type": "stream",
     "text": [
      "                           key  \\\n",
      "0  SUTWUYBMBWPLMW-MDWZMJQESA-N   \n",
      "1  RIYHJWOTNJXDLV-UHFFFAOYSA-N   \n",
      "2  OGNBARHGQVMGGX-UHFFFAOYSA-N   \n",
      "3  WQEXDIRUOYNDCM-UHFFFAOYSA-N   \n",
      "4  YEGVLLQDOGYWDQ-OAHLLOKOSA-N   \n",
      "\n",
      "                                               input  outcome  \n",
      "0                           CCCCNC(=S)N/N=C/c1sccc1C    0.990  \n",
      "1              Cn1c(SCc2nc(-c3cccs3)no2)nnc1C1CCCCC1    0.272  \n",
      "2                 O=C(O)CC(NC(=O)c1cnccn1)c1ccccc1Cl    0.017  \n",
      "3       O=S(=O)(c1ccccc1)N1CCN(c2noc3cccc(Cl)c23)CC1    0.991  \n",
      "4  CCC[C@@H](C)N(c1cc(Cl)ccc1CO)S(=O)(=O)c1ccc(C)cc1    0.999  \n"
     ]
    }
   ],
   "source": [
    "# Check your results\n",
    "print(output.head())\n",
    "\n",
    "# Save my results in Google Drive\n",
    "\n",
    "#output_path = f'{output_folder}/{model_name}'\n",
    "output_path = \"%s/%s_output.csv\" % (output_folder, model_name)\n",
    "output.to_csv(output_path, index=False)\n",
    "\n"
   ]
  },
  {
   "cell_type": "markdown",
   "metadata": {
    "id": "nGdPViedVzth"
   },
   "source": [
    "# Model Bias Evaluation\n",
    "\n",
    "Now, I will use the predictions I got from the Ersilia Model Hub on the dataset of 1000 molecules curated above and see how are they distributed in their space (which might be 0 to 1 for probabilities, or different for regression models)"
   ]
  },
  {
   "cell_type": "code",
   "execution_count": 22,
   "metadata": {
    "colab": {
     "base_uri": "https://localhost:8080/",
     "height": 293
    },
    "executionInfo": {
     "elapsed": 604,
     "status": "ok",
     "timestamp": 1710326672034,
     "user": {
      "displayName": "Olawumi Ajani Salaam",
      "userId": "07507578771130631885"
     },
     "user_tz": -60
    },
    "id": "i4SJUkzDVzth",
    "outputId": "535596f0-0989-4671-c5c0-54612950f306"
   },
   "outputs": [
    {
     "data": {
      "application/vnd.google.colaboratory.intrinsic+json": {
       "summary": "{\n  \"name\": \"predictions\",\n  \"rows\": 1000,\n  \"fields\": [\n    {\n      \"column\": \"key\",\n      \"properties\": {\n        \"dtype\": \"string\",\n        \"num_unique_values\": 1000,\n        \"samples\": [\n          \"WXJVTKCKFVWMGE-UHFFFAOYSA-N\",\n          \"STHXBYBOTUFDBJ-UHFFFAOYSA-N\",\n          \"DZVXRWNHDDUKKP-UHFFFAOYSA-N\"\n        ],\n        \"semantic_type\": \"\",\n        \"description\": \"\"\n      }\n    },\n    {\n      \"column\": \"input\",\n      \"properties\": {\n        \"dtype\": \"string\",\n        \"num_unique_values\": 1000,\n        \"samples\": [\n          \"Cn1c(SCC(N)=O)nnc1-c1ccc(S(=O)(=O)N2CCCC2)cc1\",\n          \"NC(=O)c1ccccc1OCCCNCCc1cn(S(=O)(=O)c2ccccc2)c2ccccc12\",\n          \"CCOc1ccccc1C(=O)NCC(=O)OCC(=O)NCCc1ccc(S(N)(=O)=O)cc1\"\n        ],\n        \"semantic_type\": \"\",\n        \"description\": \"\"\n      }\n    },\n    {\n      \"column\": \"outcome\",\n      \"properties\": {\n        \"dtype\": \"number\",\n        \"std\": 0.4206872107983904,\n        \"min\": 0.0,\n        \"max\": 1.0,\n        \"num_unique_values\": 419,\n        \"samples\": [\n          0.285,\n          0.874,\n          0.863\n        ],\n        \"semantic_type\": \"\",\n        \"description\": \"\"\n      }\n    }\n  ]\n}",
       "type": "dataframe",
       "variable_name": "predictions"
      },
      "text/html": [
       "\n",
       "  <div id=\"df-75ae8623-3685-41bf-903e-79aad7a94946\" class=\"colab-df-container\">\n",
       "    <div>\n",
       "<style scoped>\n",
       "    .dataframe tbody tr th:only-of-type {\n",
       "        vertical-align: middle;\n",
       "    }\n",
       "\n",
       "    .dataframe tbody tr th {\n",
       "        vertical-align: top;\n",
       "    }\n",
       "\n",
       "    .dataframe thead th {\n",
       "        text-align: right;\n",
       "    }\n",
       "</style>\n",
       "<table border=\"1\" class=\"dataframe\">\n",
       "  <thead>\n",
       "    <tr style=\"text-align: right;\">\n",
       "      <th></th>\n",
       "      <th>key</th>\n",
       "      <th>input</th>\n",
       "      <th>outcome</th>\n",
       "    </tr>\n",
       "  </thead>\n",
       "  <tbody>\n",
       "    <tr>\n",
       "      <th>0</th>\n",
       "      <td>SUTWUYBMBWPLMW-MDWZMJQESA-N</td>\n",
       "      <td>CCCCNC(=S)N/N=C/c1sccc1C</td>\n",
       "      <td>0.990</td>\n",
       "    </tr>\n",
       "    <tr>\n",
       "      <th>1</th>\n",
       "      <td>RIYHJWOTNJXDLV-UHFFFAOYSA-N</td>\n",
       "      <td>Cn1c(SCc2nc(-c3cccs3)no2)nnc1C1CCCCC1</td>\n",
       "      <td>0.272</td>\n",
       "    </tr>\n",
       "    <tr>\n",
       "      <th>2</th>\n",
       "      <td>OGNBARHGQVMGGX-UHFFFAOYSA-N</td>\n",
       "      <td>O=C(O)CC(NC(=O)c1cnccn1)c1ccccc1Cl</td>\n",
       "      <td>0.017</td>\n",
       "    </tr>\n",
       "    <tr>\n",
       "      <th>3</th>\n",
       "      <td>WQEXDIRUOYNDCM-UHFFFAOYSA-N</td>\n",
       "      <td>O=S(=O)(c1ccccc1)N1CCN(c2noc3cccc(Cl)c23)CC1</td>\n",
       "      <td>0.991</td>\n",
       "    </tr>\n",
       "    <tr>\n",
       "      <th>4</th>\n",
       "      <td>YEGVLLQDOGYWDQ-OAHLLOKOSA-N</td>\n",
       "      <td>CCC[C@@H](C)N(c1cc(Cl)ccc1CO)S(=O)(=O)c1ccc(C)cc1</td>\n",
       "      <td>0.999</td>\n",
       "    </tr>\n",
       "  </tbody>\n",
       "</table>\n",
       "</div>\n",
       "    <div class=\"colab-df-buttons\">\n",
       "\n",
       "  <div class=\"colab-df-container\">\n",
       "    <button class=\"colab-df-convert\" onclick=\"convertToInteractive('df-75ae8623-3685-41bf-903e-79aad7a94946')\"\n",
       "            title=\"Convert this dataframe to an interactive table.\"\n",
       "            style=\"display:none;\">\n",
       "\n",
       "  <svg xmlns=\"http://www.w3.org/2000/svg\" height=\"24px\" viewBox=\"0 -960 960 960\">\n",
       "    <path d=\"M120-120v-720h720v720H120Zm60-500h600v-160H180v160Zm220 220h160v-160H400v160Zm0 220h160v-160H400v160ZM180-400h160v-160H180v160Zm440 0h160v-160H620v160ZM180-180h160v-160H180v160Zm440 0h160v-160H620v160Z\"/>\n",
       "  </svg>\n",
       "    </button>\n",
       "\n",
       "  <style>\n",
       "    .colab-df-container {\n",
       "      display:flex;\n",
       "      gap: 12px;\n",
       "    }\n",
       "\n",
       "    .colab-df-convert {\n",
       "      background-color: #E8F0FE;\n",
       "      border: none;\n",
       "      border-radius: 50%;\n",
       "      cursor: pointer;\n",
       "      display: none;\n",
       "      fill: #1967D2;\n",
       "      height: 32px;\n",
       "      padding: 0 0 0 0;\n",
       "      width: 32px;\n",
       "    }\n",
       "\n",
       "    .colab-df-convert:hover {\n",
       "      background-color: #E2EBFA;\n",
       "      box-shadow: 0px 1px 2px rgba(60, 64, 67, 0.3), 0px 1px 3px 1px rgba(60, 64, 67, 0.15);\n",
       "      fill: #174EA6;\n",
       "    }\n",
       "\n",
       "    .colab-df-buttons div {\n",
       "      margin-bottom: 4px;\n",
       "    }\n",
       "\n",
       "    [theme=dark] .colab-df-convert {\n",
       "      background-color: #3B4455;\n",
       "      fill: #D2E3FC;\n",
       "    }\n",
       "\n",
       "    [theme=dark] .colab-df-convert:hover {\n",
       "      background-color: #434B5C;\n",
       "      box-shadow: 0px 1px 3px 1px rgba(0, 0, 0, 0.15);\n",
       "      filter: drop-shadow(0px 1px 2px rgba(0, 0, 0, 0.3));\n",
       "      fill: #FFFFFF;\n",
       "    }\n",
       "  </style>\n",
       "\n",
       "    <script>\n",
       "      const buttonEl =\n",
       "        document.querySelector('#df-75ae8623-3685-41bf-903e-79aad7a94946 button.colab-df-convert');\n",
       "      buttonEl.style.display =\n",
       "        google.colab.kernel.accessAllowed ? 'block' : 'none';\n",
       "\n",
       "      async function convertToInteractive(key) {\n",
       "        const element = document.querySelector('#df-75ae8623-3685-41bf-903e-79aad7a94946');\n",
       "        const dataTable =\n",
       "          await google.colab.kernel.invokeFunction('convertToInteractive',\n",
       "                                                    [key], {});\n",
       "        if (!dataTable) return;\n",
       "\n",
       "        const docLinkHtml = 'Like what you see? Visit the ' +\n",
       "          '<a target=\"_blank\" href=https://colab.research.google.com/notebooks/data_table.ipynb>data table notebook</a>'\n",
       "          + ' to learn more about interactive tables.';\n",
       "        element.innerHTML = '';\n",
       "        dataTable['output_type'] = 'display_data';\n",
       "        await google.colab.output.renderOutput(dataTable, element);\n",
       "        const docLink = document.createElement('div');\n",
       "        docLink.innerHTML = docLinkHtml;\n",
       "        element.appendChild(docLink);\n",
       "      }\n",
       "    </script>\n",
       "  </div>\n",
       "\n",
       "\n",
       "<div id=\"df-08ea0d8a-a3cf-4af5-85a4-8dca8b7b33a7\">\n",
       "  <button class=\"colab-df-quickchart\" onclick=\"quickchart('df-08ea0d8a-a3cf-4af5-85a4-8dca8b7b33a7')\"\n",
       "            title=\"Suggest charts\"\n",
       "            style=\"display:none;\">\n",
       "\n",
       "<svg xmlns=\"http://www.w3.org/2000/svg\" height=\"24px\"viewBox=\"0 0 24 24\"\n",
       "     width=\"24px\">\n",
       "    <g>\n",
       "        <path d=\"M19 3H5c-1.1 0-2 .9-2 2v14c0 1.1.9 2 2 2h14c1.1 0 2-.9 2-2V5c0-1.1-.9-2-2-2zM9 17H7v-7h2v7zm4 0h-2V7h2v10zm4 0h-2v-4h2v4z\"/>\n",
       "    </g>\n",
       "</svg>\n",
       "  </button>\n",
       "\n",
       "<style>\n",
       "  .colab-df-quickchart {\n",
       "      --bg-color: #E8F0FE;\n",
       "      --fill-color: #1967D2;\n",
       "      --hover-bg-color: #E2EBFA;\n",
       "      --hover-fill-color: #174EA6;\n",
       "      --disabled-fill-color: #AAA;\n",
       "      --disabled-bg-color: #DDD;\n",
       "  }\n",
       "\n",
       "  [theme=dark] .colab-df-quickchart {\n",
       "      --bg-color: #3B4455;\n",
       "      --fill-color: #D2E3FC;\n",
       "      --hover-bg-color: #434B5C;\n",
       "      --hover-fill-color: #FFFFFF;\n",
       "      --disabled-bg-color: #3B4455;\n",
       "      --disabled-fill-color: #666;\n",
       "  }\n",
       "\n",
       "  .colab-df-quickchart {\n",
       "    background-color: var(--bg-color);\n",
       "    border: none;\n",
       "    border-radius: 50%;\n",
       "    cursor: pointer;\n",
       "    display: none;\n",
       "    fill: var(--fill-color);\n",
       "    height: 32px;\n",
       "    padding: 0;\n",
       "    width: 32px;\n",
       "  }\n",
       "\n",
       "  .colab-df-quickchart:hover {\n",
       "    background-color: var(--hover-bg-color);\n",
       "    box-shadow: 0 1px 2px rgba(60, 64, 67, 0.3), 0 1px 3px 1px rgba(60, 64, 67, 0.15);\n",
       "    fill: var(--button-hover-fill-color);\n",
       "  }\n",
       "\n",
       "  .colab-df-quickchart-complete:disabled,\n",
       "  .colab-df-quickchart-complete:disabled:hover {\n",
       "    background-color: var(--disabled-bg-color);\n",
       "    fill: var(--disabled-fill-color);\n",
       "    box-shadow: none;\n",
       "  }\n",
       "\n",
       "  .colab-df-spinner {\n",
       "    border: 2px solid var(--fill-color);\n",
       "    border-color: transparent;\n",
       "    border-bottom-color: var(--fill-color);\n",
       "    animation:\n",
       "      spin 1s steps(1) infinite;\n",
       "  }\n",
       "\n",
       "  @keyframes spin {\n",
       "    0% {\n",
       "      border-color: transparent;\n",
       "      border-bottom-color: var(--fill-color);\n",
       "      border-left-color: var(--fill-color);\n",
       "    }\n",
       "    20% {\n",
       "      border-color: transparent;\n",
       "      border-left-color: var(--fill-color);\n",
       "      border-top-color: var(--fill-color);\n",
       "    }\n",
       "    30% {\n",
       "      border-color: transparent;\n",
       "      border-left-color: var(--fill-color);\n",
       "      border-top-color: var(--fill-color);\n",
       "      border-right-color: var(--fill-color);\n",
       "    }\n",
       "    40% {\n",
       "      border-color: transparent;\n",
       "      border-right-color: var(--fill-color);\n",
       "      border-top-color: var(--fill-color);\n",
       "    }\n",
       "    60% {\n",
       "      border-color: transparent;\n",
       "      border-right-color: var(--fill-color);\n",
       "    }\n",
       "    80% {\n",
       "      border-color: transparent;\n",
       "      border-right-color: var(--fill-color);\n",
       "      border-bottom-color: var(--fill-color);\n",
       "    }\n",
       "    90% {\n",
       "      border-color: transparent;\n",
       "      border-bottom-color: var(--fill-color);\n",
       "    }\n",
       "  }\n",
       "</style>\n",
       "\n",
       "  <script>\n",
       "    async function quickchart(key) {\n",
       "      const quickchartButtonEl =\n",
       "        document.querySelector('#' + key + ' button');\n",
       "      quickchartButtonEl.disabled = true;  // To prevent multiple clicks.\n",
       "      quickchartButtonEl.classList.add('colab-df-spinner');\n",
       "      try {\n",
       "        const charts = await google.colab.kernel.invokeFunction(\n",
       "            'suggestCharts', [key], {});\n",
       "      } catch (error) {\n",
       "        console.error('Error during call to suggestCharts:', error);\n",
       "      }\n",
       "      quickchartButtonEl.classList.remove('colab-df-spinner');\n",
       "      quickchartButtonEl.classList.add('colab-df-quickchart-complete');\n",
       "    }\n",
       "    (() => {\n",
       "      let quickchartButtonEl =\n",
       "        document.querySelector('#df-08ea0d8a-a3cf-4af5-85a4-8dca8b7b33a7 button');\n",
       "      quickchartButtonEl.style.display =\n",
       "        google.colab.kernel.accessAllowed ? 'block' : 'none';\n",
       "    })();\n",
       "  </script>\n",
       "</div>\n",
       "    </div>\n",
       "  </div>\n"
      ],
      "text/plain": [
       "                           key  \\\n",
       "0  SUTWUYBMBWPLMW-MDWZMJQESA-N   \n",
       "1  RIYHJWOTNJXDLV-UHFFFAOYSA-N   \n",
       "2  OGNBARHGQVMGGX-UHFFFAOYSA-N   \n",
       "3  WQEXDIRUOYNDCM-UHFFFAOYSA-N   \n",
       "4  YEGVLLQDOGYWDQ-OAHLLOKOSA-N   \n",
       "\n",
       "                                               input  outcome  \n",
       "0                           CCCCNC(=S)N/N=C/c1sccc1C    0.990  \n",
       "1              Cn1c(SCc2nc(-c3cccs3)no2)nnc1C1CCCCC1    0.272  \n",
       "2                 O=C(O)CC(NC(=O)c1cnccn1)c1ccccc1Cl    0.017  \n",
       "3       O=S(=O)(c1ccccc1)N1CCN(c2noc3cccc(Cl)c23)CC1    0.991  \n",
       "4  CCC[C@@H](C)N(c1cc(Cl)ccc1CO)S(=O)(=O)c1ccc(C)cc1    0.999  "
      ]
     },
     "execution_count": 22,
     "metadata": {},
     "output_type": "execute_result"
    }
   ],
   "source": [
    "# In this codeblock I will load the predictions I've run on Ersilia and saved in the /data folder\n",
    "\n",
    "predictions=pd.read_csv(r\"/content/drive/MyDrive/Ersilia_Week2Task/eos74bo_output.csv\")\n",
    "\n",
    "# check the first 5 rows\n",
    "predictions.head()\n"
   ]
  },
  {
   "cell_type": "code",
   "execution_count": 26,
   "metadata": {
    "colab": {
     "base_uri": "https://localhost:8080/"
    },
    "executionInfo": {
     "elapsed": 11,
     "status": "ok",
     "timestamp": 1710328864827,
     "user": {
      "displayName": "Olawumi Ajani Salaam",
      "userId": "07507578771130631885"
     },
     "user_tz": -60
    },
    "id": "LclD-YfkizCi",
    "outputId": "1f113831-465d-4699-989a-8402b90e11f4"
   },
   "outputs": [
    {
     "data": {
      "text/plain": [
       "Index(['key', 'input', 'outcome'], dtype='object')"
      ]
     },
     "execution_count": 26,
     "metadata": {},
     "output_type": "execute_result"
    }
   ],
   "source": [
    "predictions.columns"
   ]
  },
  {
   "cell_type": "markdown",
   "metadata": {
    "id": "mJxxlZc-iqFq"
   },
   "source": [
    "The predictions dataframe contains 3 columns which is 'key', 'input', 'outcome'. The outcome is interpreted as probability of a compound having poor solublibity (< 10 µg/ml)"
   ]
  },
  {
   "cell_type": "code",
   "execution_count": 23,
   "metadata": {
    "colab": {
     "base_uri": "https://localhost:8080/",
     "height": 564
    },
    "executionInfo": {
     "elapsed": 474,
     "status": "ok",
     "timestamp": 1710326693493,
     "user": {
      "displayName": "Olawumi Ajani Salaam",
      "userId": "07507578771130631885"
     },
     "user_tz": -60
    },
    "id": "FrrAe7P1Vzti",
    "outputId": "500f5256-2cfe-4447-ba99-f0b368bef3d2"
   },
   "outputs": [
    {
     "data": {
      "image/png": "[encoded data removed]",
      "text/plain": [
       "<Figure size 800x600 with 1 Axes>"
      ]
     },
     "metadata": {},
     "output_type": "display_data"
    }
   ],
   "source": [
    "# In this codeblock I will create the necessary plots with MatPlotLib to observe the distribution of predicted values\n",
    "\n",
    "import matplotlib.pyplot as plt\n",
    "\n",
    "# Create a histogram\n",
    "plt.figure(figsize=(8, 6))\n",
    "plt.hist(predictions['outcome'], bins=10, color='skyblue', edgecolor='black', alpha=0.7)\n",
    "plt.title('Distribution of Predicted Probabilities')\n",
    "plt.xlabel('Predicted Probability')\n",
    "plt.ylabel('Frequency')\n",
    "plt.grid(True)\n",
    "plt.show()"
   ]
  },
  {
   "cell_type": "markdown",
   "metadata": {
    "id": "cGfGMFzchNen"
   },
   "source": [
    "# Interpretation\n",
    "\n",
    "Model eos74bo information\n",
    "\n",
    "Kinetic aqueous solubility (μg/mL) was experimentally determined using the same SOP in over 200 NCATS drug discovery projects. A final dataset of 11780 non-redundant molecules and their associated solubility was used to train a SVM classifier. Approximately half of the dataset has poor solubility (< 10 μg/mL), and two-thirds of these low soluble molecules report values of < 1 μg/mL. A subset of the data used is available at PubChem (AID 1645848).\n",
    "\n",
    "Comparing the model information with predictions the model generated, it can be inferred that the model is not biased from the visualisation above. The model was able generate that half of the dataset has poor solubility."
   ]
  },
  {
   "cell_type": "code",
   "execution_count": 25,
   "metadata": {
    "colab": {
     "base_uri": "https://localhost:8080/"
    },
    "executionInfo": {
     "elapsed": 367,
     "status": "ok",
     "timestamp": 1710327252471,
     "user": {
      "displayName": "Olawumi Ajani Salaam",
      "userId": "07507578771130631885"
     },
     "user_tz": -60
    },
    "id": "ckOqSNwZcc9G",
    "outputId": "7a3add2c-632b-4ddd-be2c-47b2032e50c0"
   },
   "outputs": [
    {
     "name": "stdout",
     "output_type": "stream",
     "text": [
      "Number of predictions with low solubility (threshold 0.5): 548\n"
     ]
    }
   ],
   "source": [
    "# let set probability of aqeous solubility\n",
    "threshold = 0.5\n",
    "\n",
    "# Count the number of predictions with low solubility (probability < 0.5)\n",
    "num_low_solubility = predictions[predictions['outcome'] < threshold].shape[0]\n",
    "\n",
    "print(\"Number of predictions with low solubility (threshold 0.5):\", num_low_solubility)"
   ]
  },
  {
   "cell_type": "code",
   "execution_count": 24,
   "metadata": {
    "colab": {
     "base_uri": "https://localhost:8080/",
     "height": 581
    },
    "executionInfo": {
     "elapsed": 2169,
     "status": "ok",
     "timestamp": 1710327095609,
     "user": {
      "displayName": "Olawumi Ajani Salaam",
      "userId": "07507578771130631885"
     },
     "user_tz": -60
    },
    "id": "tqlRY_vVbkcG",
    "outputId": "4d267768-40c8-4ae2-e435-46055f509b45"
   },
   "outputs": [
    {
     "name": "stderr",
     "output_type": "stream",
     "text": [
      "<ipython-input-24-26aef0d17e71>:4: FutureWarning: \n",
      "\n",
      "`shade` is now deprecated in favor of `fill`; setting `fill=True`.\n",
      "This will become an error in seaborn v0.14.0; please update your code.\n",
      "\n",
      "  sns.kdeplot(predictions['outcome'], shade=True)\n"
     ]
    },
    {
     "data": {
      "image/png": "[encoded data removed]",
      "text/plain": [
       "<Figure size 640x480 with 1 Axes>"
      ]
     },
     "metadata": {},
     "output_type": "display_data"
    }
   ],
   "source": [
    "import seaborn as sns\n",
    "\n",
    "# Plot density plot of predicted values\n",
    "plt.figure(figsize=(8, 6))\n",
    "sns.kdeplot(predictions['outcome'], shade=True)\n",
    "plt.xlabel('Predicted Probability')\n",
    "plt.ylabel('Density')\n",
    "plt.title('Density Plot of Predicted Outcomes(Probalities)')\n",
    "plt.show()\n"
   ]
  },
  {
   "cell_type": "code",
   "execution_count": null,
   "metadata": {
    "id": "alNXusuYcFVA"
   },
   "outputs": [],
   "source": []
  }
 ],
 "metadata": {
  "accelerator": "GPU",
  "colab": {
   "gpuType": "T4",
   "provenance": []
  },
  "kernelspec": {
   "display_name": "Python 3 (ipykernel)",
   "language": "python",
   "name": "python3"
  },
  "language_info": {
   "codemirror_mode": {
    "name": "ipython",
    "version": 3
   },
   "file_extension": ".py",
   "mimetype": "text/x-python",
   "name": "python",
   "nbconvert_exporter": "python",
   "pygments_lexer": "ipython3",
   "version": "3.12.1"
  }
 },
 "nbformat": 4,
 "nbformat_minor": 4
}
